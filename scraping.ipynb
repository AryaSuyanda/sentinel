{
  "nbformat": 4,
  "nbformat_minor": 0,
  "metadata": {
    "colab": {
      "provenance": []
    },
    "kernelspec": {
      "name": "python3",
      "display_name": "Python 3"
    },
    "language_info": {
      "name": "python"
    }
  },
  "cells": [
    {
      "cell_type": "markdown",
      "source": [
        "# **Scapping Dataset**\n",
        "\n",
        "Pada proyek ini, kita akan melakukan analisis sentimen terhadap ulasan dan pendapat pengguna terkait aplikasi \"BYOND by BSI\" di Play Store. Analisis sentimen akan membantu kita untuk memahami bagaimana pengguna merasakan dan mengungkapkan pandangan mereka terhadap aplikasi ini.\n",
        "\n",
        "Dengan menggunakan berbagai teknik pemrosesan teks dan algoritma machine learning, kita akan mencoba mengidentifikasi apakah ulasan pengguna terhadap aplikasi \"BYOND by BSI\" cenderung positif, negatif, atau netral. Hasil analisis sentimen ini dapat memberikan wawasan berharga kepada pengembang aplikasi untuk meningkatkan pengalaman pengguna. Mari kita mulai menjelajahi ulasan pengguna dan menganalisis sentimen di sekitar aplikasi \"BYOND by BSI\" dengan lebih mendalam."
      ],
      "metadata": {
        "id": "F9Ojf-epO_2l"
      }
    },
    {
      "cell_type": "code",
      "execution_count": null,
      "metadata": {
        "colab": {
          "base_uri": "https://localhost:8080/"
        },
        "id": "i-FYNHstMthv",
        "outputId": "85858643-6763-4ab3-f87e-a12ce2433a20"
      },
      "outputs": [
        {
          "output_type": "stream",
          "name": "stdout",
          "text": [
            "Requirement already satisfied: google-play-scraper in /usr/local/lib/python3.11/dist-packages (1.2.7)\n",
            "Jumlah baris data: 23977\n"
          ]
        }
      ],
      "source": [
        "!pip install google-play-scraper\n",
        "\n",
        "from google_play_scraper import reviews_all, Sort\n",
        "import pandas as pd\n",
        "import csv\n",
        "\n",
        "# Scraping ulasan\n",
        "scrapreview = reviews_all(\n",
        "    'co.id.bankbsi.superapp',\n",
        "    lang='id',\n",
        "    country='id',\n",
        "    sort=Sort.MOST_RELEVANT,\n",
        "    count=3000\n",
        ")\n",
        "\n",
        "# Menyimpan ulasan dalam file CSV\n",
        "with open('ulasan_aplikasi.csv', mode='w', newline='', encoding='utf-8') as file:\n",
        "    writer = csv.writer(file)\n",
        "    writer.writerow(['Review'])\n",
        "    for review in scrapreview:\n",
        "        writer.writerow([review['content']])\n",
        "\n",
        "# Membaca file CSV ke dalam DataFrame Pandas\n",
        "df = pd.read_csv('ulasan_aplikasi.csv')\n",
        "print(f\"Jumlah baris data: {len(df)}\")\n",
        "\n",
        "# Membuat DataFrame dari hasil scrapreview\n",
        "app_reviews_df = pd.DataFrame(scrapreview)\n",
        "app_reviews_df.to_csv('ulasan_aplikasi.csv', index=False)"
      ]
    }
  ]
}